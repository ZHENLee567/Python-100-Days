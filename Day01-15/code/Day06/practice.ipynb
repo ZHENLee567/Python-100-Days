{
 "cells": [
  {
   "cell_type": "code",
   "id": "initial_id",
   "metadata": {
    "collapsed": true,
    "ExecuteTime": {
     "end_time": "2024-04-21T01:41:58.942305Z",
     "start_time": "2024-04-21T01:41:58.928748Z"
    }
   },
   "source": [
    "# 练习1：实现计算求最大公约数和最小公倍数的函数。\n",
    "def gcd(a, b):\n",
    "    \"\"\"求最大公约数\"\"\"\n",
    "    if a > b:\n",
    "        x, y = a, b\n",
    "    else:\n",
    "        x, y = b, a\n",
    "        \n",
    "    while y != 0:\n",
    "        x, y = y, x % y\n",
    "    \n",
    "    return x\n",
    "\n",
    "def lcm(a, b):\n",
    "    \"\"\"求最小公倍数\"\"\"\n",
    "    return a * b // gcd(a, b)"
   ],
   "outputs": [],
   "execution_count": 1
  },
  {
   "metadata": {
    "ExecuteTime": {
     "end_time": "2024-04-21T01:45:28.018498Z",
     "start_time": "2024-04-21T01:45:11.793206Z"
    }
   },
   "cell_type": "code",
   "source": [
    "def is_palindrome(num):\n",
    "    \"\"\"判断一个数是不是回文数\"\"\"\n",
    "    num = str(num)\n",
    "    return num == num[::-1]\n",
    "\n",
    "while True:\n",
    "    num = int(input(\"请输入数字\"))\n",
    "    if is_palindrome(num):\n",
    "        print(\"是回文数\")\n",
    "    else:\n",
    "        break"
   ],
   "id": "45b6513f462053d7",
   "outputs": [
    {
     "name": "stdout",
     "output_type": "stream",
     "text": [
      "是回文数\n",
      "是回文数\n",
      "是回文数\n"
     ]
    }
   ],
   "execution_count": 2
  },
  {
   "metadata": {
    "ExecuteTime": {
     "end_time": "2024-04-21T01:48:42.979185Z",
     "start_time": "2024-04-21T01:48:42.973708Z"
    }
   },
   "cell_type": "code",
   "source": [
    "def isprime(num):\n",
    "    \"\"\"判断一个数是不是素数\"\"\"\n",
    "    for i in range(2, int(num ** 0.5) + 1):\n",
    "        if num % i == 0:\n",
    "            return False\n",
    "    \n",
    "    return True if num != 1 else False"
   ],
   "id": "824322ec022dc9ef",
   "outputs": [],
   "execution_count": 3
  },
  {
   "metadata": {
    "ExecuteTime": {
     "end_time": "2024-04-21T01:52:23.058734Z",
     "start_time": "2024-04-21T01:52:18.773141Z"
    }
   },
   "cell_type": "code",
   "source": [
    "if __name__ == \"__main__\":\n",
    "    num = int(input(\"请输入正整数：\"))\n",
    "    if is_palindrome(num) and isprime(num):\n",
    "        print(\"%d 是回文素数\" % num)"
   ],
   "id": "89f8d2826cb8137a",
   "outputs": [
    {
     "name": "stdout",
     "output_type": "stream",
     "text": [
      "191 是回文素数\n"
     ]
    }
   ],
   "execution_count": 4
  },
  {
   "metadata": {},
   "cell_type": "code",
   "outputs": [],
   "execution_count": null,
   "source": "",
   "id": "c0a8ce4d4a49e75b"
  }
 ],
 "metadata": {
  "kernelspec": {
   "display_name": "Python 3",
   "language": "python",
   "name": "python3"
  },
  "language_info": {
   "codemirror_mode": {
    "name": "ipython",
    "version": 2
   },
   "file_extension": ".py",
   "mimetype": "text/x-python",
   "name": "python",
   "nbconvert_exporter": "python",
   "pygments_lexer": "ipython2",
   "version": "2.7.6"
  }
 },
 "nbformat": 4,
 "nbformat_minor": 5
}
