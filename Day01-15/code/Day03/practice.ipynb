{
 "cells": [
  {
   "cell_type": "code",
   "id": "initial_id",
   "metadata": {
    "collapsed": true,
    "ExecuteTime": {
     "end_time": "2024-04-18T02:17:50.541685Z",
     "start_time": "2024-04-18T02:17:39.037169Z"
    }
   },
   "source": [
    "# 练习1：英制单位英寸与公制单位厘米互换\n",
    "\n",
    "value = float(input(\"Enter a number: \"))\n",
    "unit = input(\"Enter a unit: \")\n",
    "if unit == \"in\" or unit == \"英寸\":\n",
    "    print(\"%.2f英寸 = %.2f厘米\" % (value, value * 2.54))\n",
    "elif unit == \"cm\" or unit == \"厘米\":\n",
    "    print(\"%.2f厘米 = %.2f英寸\" % (value, value / 2.54))\n",
    "else:\n",
    "    print(\"Invalid unit\")"
   ],
   "outputs": [
    {
     "name": "stdout",
     "output_type": "stream",
     "text": [
      "9.000000英寸 = 22.860000厘米\n"
     ]
    }
   ],
   "execution_count": 1
  },
  {
   "metadata": {
    "ExecuteTime": {
     "end_time": "2024-04-18T02:21:07.544056Z",
     "start_time": "2024-04-18T02:21:01.577155Z"
    }
   },
   "cell_type": "code",
   "source": [
    "# 练习2：百分制成绩转换为等级制成绩。\n",
    "\n",
    "grade = float(input(\"Enter a grade: \"))\n",
    "print(\"Your grade is %.2f\" % grade)\n",
    "print(\"Your rank is: \",end='')\n",
    "if grade >= 90:\n",
    "    print(\"A\")\n",
    "elif grade >= 80:\n",
    "    print(\"B\")\n",
    "elif grade >= 70:\n",
    "    print(\"C\")\n",
    "elif grade >= 60:\n",
    "    print(\"D\")\n",
    "else:\n",
    "    print(\"E\")"
   ],
   "id": "209d9f731904fd3",
   "outputs": [
    {
     "name": "stdout",
     "output_type": "stream",
     "text": [
      "Your grade is 75.00\n",
      "Your rank is:C\n"
     ]
    }
   ],
   "execution_count": 4
  },
  {
   "metadata": {
    "ExecuteTime": {
     "end_time": "2024-04-18T02:29:53.520223Z",
     "start_time": "2024-04-18T02:29:45.542793Z"
    }
   },
   "cell_type": "code",
   "source": [
    "# 练习3：输入三条边长，如果能构成三角形就计算周长和面积。\n",
    "print(\"输入三条边的长度以求得三角形的边长和面积\")\n",
    "a = float(input(\"输入第一条边的长度: \"))\n",
    "b = float(input(\"输入第二条边的长度: \"))\n",
    "c = float(input(\"输入第三条边的长度: \"))\n",
    "print(\"您所输入的三条边长度分别为：a = %.2f, b = %.2f, c = %.2f\" % (a, b, c))\n",
    "x = max(a, b, c)\n",
    "C = a + b + c\n",
    "if C-x > x:\n",
    "    p = C/2\n",
    "    area = (p * (p-a) * (p-b) * (p-c)) ** 0.5\n",
    "    print(\"所求三角形的面积为%.2f\" % area)\n",
    "    print(\"所求三角形的周长为%.2f\" % C)\n",
    "else:\n",
    "    print(\"输入的三边长度无法构成三角形，请重新输入\")"
   ],
   "id": "a9478501484af469",
   "outputs": [
    {
     "name": "stdout",
     "output_type": "stream",
     "text": [
      "输入三条边的长度以求得三角形的边长和面积\n",
      "您所输入的三条边长度分别为：a = 3.00, b = 4.00, c = 5.00\n",
      "所求三角形的面积为6.00\n",
      "所求三角形的周长为12.00\n"
     ]
    }
   ],
   "execution_count": 5
  },
  {
   "metadata": {},
   "cell_type": "code",
   "outputs": [],
   "execution_count": null,
   "source": "",
   "id": "bec146e9396c2b01"
  }
 ],
 "metadata": {
  "kernelspec": {
   "display_name": "Python 3",
   "language": "python",
   "name": "python3"
  },
  "language_info": {
   "codemirror_mode": {
    "name": "ipython",
    "version": 2
   },
   "file_extension": ".py",
   "mimetype": "text/x-python",
   "name": "python",
   "nbconvert_exporter": "python",
   "pygments_lexer": "ipython2",
   "version": "2.7.6"
  }
 },
 "nbformat": 4,
 "nbformat_minor": 5
}
