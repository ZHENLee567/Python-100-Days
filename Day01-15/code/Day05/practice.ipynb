{
 "cells": [
  {
   "cell_type": "code",
   "id": "initial_id",
   "metadata": {
    "collapsed": true,
    "ExecuteTime": {
     "end_time": "2024-04-20T02:57:15.272825Z",
     "start_time": "2024-04-20T02:57:15.254155Z"
    }
   },
   "source": [
    "import math\n",
    "\n",
    "# 生成斐波那契数列的前20个数字\n",
    "a = 0\n",
    "b = 1\n",
    "\n",
    "for i in range(20):\n",
    "    print(b, end=' ')\n",
    "    a, b = b, a+b\n",
    "    "
   ],
   "outputs": [
    {
     "name": "stdout",
     "output_type": "stream",
     "text": [
      "1 1 2 3 5 8 13 21 34 55 89 144 233 377 610 987 1597 2584 4181 6765 "
     ]
    }
   ],
   "execution_count": 1
  },
  {
   "metadata": {
    "ExecuteTime": {
     "end_time": "2024-04-20T03:02:49.497316Z",
     "start_time": "2024-04-20T03:02:47.499056Z"
    }
   },
   "cell_type": "code",
   "source": [
    "# 找出10000以内的完美数\n",
    "# 说明：完美数又称为完全数或完备数，它的所有的真因子（即除了自身以外的因子）的和（即因子函数）恰好等于它本身。例如：6（$6=1+2+3$）和28（$28=1+2+4+7+14$）就是完美数。完美数有很多神奇的特性，有兴趣的可以自行了解。\n",
    "\n",
    "# 暴力解法\n",
    "def factorial(n):\n",
    "    res = 0\n",
    "    for i in range(1,int(n/2)+1):\n",
    "        if n % i == 0:\n",
    "            res += i\n",
    "    if res == n:\n",
    "        return True\n",
    "    return False\n",
    "\n",
    "for i in range(2,10001):\n",
    "    if factorial(i):\n",
    "        print(i, end=' ')"
   ],
   "id": "c66d0110bcfb4f5c",
   "outputs": [
    {
     "name": "stdout",
     "output_type": "stream",
     "text": [
      "6 28 496 8128 "
     ]
    }
   ],
   "execution_count": 2
  },
  {
   "metadata": {
    "ExecuteTime": {
     "end_time": "2024-04-20T03:06:54.282465Z",
     "start_time": "2024-04-20T03:06:54.276109Z"
    }
   },
   "cell_type": "code",
   "source": [
    "# 输出100以内所有的素数\n",
    "import math\n",
    "def isprime(n):\n",
    "    for j in range(2,int(math.sqrt(n))+1):\n",
    "        if n % j == 0:\n",
    "            return False\n",
    "    return True\n",
    "\n",
    "for i in range(1, 101):\n",
    "    if isprime(i):\n",
    "        print(i, end=' ')"
   ],
   "id": "3cd7c540bd904b02",
   "outputs": [
    {
     "name": "stdout",
     "output_type": "stream",
     "text": [
      "1 2 3 5 7 11 13 17 19 23 29 31 37 41 43 47 53 59 61 67 71 73 79 83 89 97 "
     ]
    }
   ],
   "execution_count": 4
  },
  {
   "metadata": {},
   "cell_type": "code",
   "outputs": [],
   "execution_count": null,
   "source": "",
   "id": "314fcd24e0b3c409"
  }
 ],
 "metadata": {
  "kernelspec": {
   "display_name": "Python 3",
   "language": "python",
   "name": "python3"
  },
  "language_info": {
   "codemirror_mode": {
    "name": "ipython",
    "version": 2
   },
   "file_extension": ".py",
   "mimetype": "text/x-python",
   "name": "python",
   "nbconvert_exporter": "python",
   "pygments_lexer": "ipython2",
   "version": "2.7.6"
  }
 },
 "nbformat": 4,
 "nbformat_minor": 5
}
