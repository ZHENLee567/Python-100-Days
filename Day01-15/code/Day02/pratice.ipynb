{
 "cells": [
  {
   "cell_type": "code",
   "id": "initial_id",
   "metadata": {
    "collapsed": true,
    "ExecuteTime": {
     "end_time": "2024-04-17T09:52:27.247779Z",
     "start_time": "2024-04-17T09:52:06.247970Z"
    }
   },
   "source": [
    "F = float(input(\"请输入华氏温度\"))\n",
    "C = (F-32)/1.8\n",
    "print(\"%.1f华氏温度 = %.2f摄氏温度\" % (F,C))"
   ],
   "outputs": [
    {
     "name": "stdout",
     "output_type": "stream",
     "text": [
      "40.0华氏温度 = 4.44\n"
     ]
    }
   ],
   "execution_count": 1
  },
  {
   "metadata": {
    "ExecuteTime": {
     "end_time": "2024-04-17T09:57:48.815121Z",
     "start_time": "2024-04-17T09:57:44.180387Z"
    }
   },
   "cell_type": "code",
   "source": [
    "import math\n",
    "r = float(input(\"请输入圆的半径\"))\n",
    "S = math.pi*r*r\n",
    "C = math.pi*2*r\n",
    "print(\"半径为 %.2f 的圆的面积为 %.2f，周长为 %.2f\" % (r, S, C))"
   ],
   "id": "65cf000c1965099e",
   "outputs": [
    {
     "name": "stdout",
     "output_type": "stream",
     "text": [
      "半径为 3.40 的圆的面积为 36.32，周长为 21.36\n"
     ]
    }
   ],
   "execution_count": 3
  },
  {
   "metadata": {
    "ExecuteTime": {
     "end_time": "2024-04-17T10:03:15.560715Z",
     "start_time": "2024-04-17T10:03:09.433122Z"
    }
   },
   "cell_type": "code",
   "source": [
    "# 判断年份是不是闰年\n",
    "year = int(input(\"请输入要判断的年份\"))\n",
    "if year % 4 == 0 and year % 100 != 0 or year % 400 == 0:\n",
    "    print(\"%d 年是闰年\" % year)\n",
    "else:\n",
    "    print(\"%d 年是平年\" % year)"
   ],
   "id": "c0714f4b2c68017f",
   "outputs": [
    {
     "name": "stdout",
     "output_type": "stream",
     "text": [
      "2024 年是闰年\n"
     ]
    }
   ],
   "execution_count": 4
  },
  {
   "metadata": {},
   "cell_type": "code",
   "outputs": [],
   "execution_count": null,
   "source": "",
   "id": "350a4d2d489cf6b7"
  }
 ],
 "metadata": {
  "kernelspec": {
   "display_name": "Python 3",
   "language": "python",
   "name": "python3"
  },
  "language_info": {
   "codemirror_mode": {
    "name": "ipython",
    "version": 2
   },
   "file_extension": ".py",
   "mimetype": "text/x-python",
   "name": "python",
   "nbconvert_exporter": "python",
   "pygments_lexer": "ipython2",
   "version": "2.7.6"
  }
 },
 "nbformat": 4,
 "nbformat_minor": 5
}
