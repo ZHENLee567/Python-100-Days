{
 "cells": [
  {
   "cell_type": "code",
   "id": "initial_id",
   "metadata": {
    "collapsed": true,
    "ExecuteTime": {
     "end_time": "2024-04-17T03:26:36.148444Z",
     "start_time": "2024-04-17T03:26:32.009115Z"
    }
   },
   "source": [
    "from turtle import *\n",
    "\n",
    "pensize(4)\n",
    "pencolor('red')\n",
    "fillcolor('green')\n",
    "begin_fill()\n",
    "forward(100)\n",
    "right(90)\n",
    "forward(100)\n",
    "right(90)\n",
    "forward(100)\n",
    "right(90)\n",
    "forward(100)\n",
    "end_fill()\n",
    "mainloop()"
   ],
   "outputs": [],
   "execution_count": 1
  },
  {
   "metadata": {
    "ExecuteTime": {
     "end_time": "2024-04-17T03:30:34.534361Z",
     "start_time": "2024-04-17T03:30:34.492850Z"
    }
   },
   "cell_type": "code",
   "source": [
    "import turtle\n",
    "def draw_star(x, y, radius):\n",
    "    \"\"\"绘制五角星\"\"\"\n",
    "    # \n",
    "    turtle.setpos(x, y)\n",
    "    pos1 = turtle.pos()\n",
    "    turtle.circle(-radius, 72)\n",
    "    pos2 = turtle.pos()\n",
    "    turtle.circle(-radius, 72)\n",
    "    pos3 = turtle.pos()\n",
    "    turtle.circle(-radius, 72)\n",
    "    pos4 = turtle.pos()\n",
    "    turtle.circle(-radius, 72)\n",
    "    pos5 = turtle.pos()\n",
    "    turtle.color('yellow', 'yellow')\n",
    "    turtle.begin_fill()\n",
    "    turtle.goto(pos3)\n",
    "    turtle.goto(pos1)\n",
    "    turtle.goto(pos4)\n",
    "    turtle.goto(pos2)\n",
    "    turtle.goto(pos5)\n",
    "    turtle.end_fill()"
   ],
   "id": "2d426264da7ea743",
   "outputs": [],
   "execution_count": 2
  },
  {
   "metadata": {
    "ExecuteTime": {
     "end_time": "2024-04-17T03:30:38.346153Z",
     "start_time": "2024-04-17T03:30:36.664914Z"
    }
   },
   "cell_type": "code",
   "source": "draw_star(100,100,20)",
   "id": "fc37728b476e73b6",
   "outputs": [],
   "execution_count": 3
  },
  {
   "metadata": {},
   "cell_type": "code",
   "outputs": [],
   "execution_count": null,
   "source": "",
   "id": "58eb04f5e7f04140"
  }
 ],
 "metadata": {
  "kernelspec": {
   "display_name": "Python 3",
   "language": "python",
   "name": "python3"
  },
  "language_info": {
   "codemirror_mode": {
    "name": "ipython",
    "version": 2
   },
   "file_extension": ".py",
   "mimetype": "text/x-python",
   "name": "python",
   "nbconvert_exporter": "python",
   "pygments_lexer": "ipython2",
   "version": "2.7.6"
  }
 },
 "nbformat": 4,
 "nbformat_minor": 5
}
