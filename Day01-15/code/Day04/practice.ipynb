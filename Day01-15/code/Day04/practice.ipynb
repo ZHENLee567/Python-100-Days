{
 "cells": [
  {
   "cell_type": "code",
   "id": "initial_id",
   "metadata": {
    "collapsed": true,
    "ExecuteTime": {
     "end_time": "2024-04-20T02:08:31.500704Z",
     "start_time": "2024-04-20T02:08:28.029825Z"
    }
   },
   "source": [
    "# 练习1：输入一个正整数判断是不是素数。\n",
    "import math\n",
    "num = int(input(\"请输入一个正整数: \"))\n",
    "flag = 0\n",
    "if num < 0:\n",
    "    print(\"请输入正整数\")\n",
    "if num % 2 == 0:\n",
    "    flag = 1\n",
    "else:\n",
    "    for i in range(1, int(math.sqrt(num))+1, 2):\n",
    "        if num % i == 0:\n",
    "            flag = 1\n",
    "            break\n",
    "if flag == 0:\n",
    "    print(\"数字 %d 是素数\" % num)\n",
    "else:\n",
    "    print(\"数字 %d 不是素数\" % num)\n",
    "\n"
   ],
   "outputs": [
    {
     "name": "stdout",
     "output_type": "stream",
     "text": [
      "数字 30 不是素数\n"
     ]
    }
   ],
   "execution_count": 2
  },
  {
   "metadata": {
    "ExecuteTime": {
     "end_time": "2024-04-20T02:27:59.865680Z",
     "start_time": "2024-04-20T02:27:51.401616Z"
    }
   },
   "cell_type": "code",
   "source": [
    "#练习2：输入两个正整数，计算它们的最大公约数和最小公倍数。\n",
    "a = int(input(\"请输入数字 1：\"))\n",
    "b = int(input(\"请输入数字 2：\"))\n",
    "\n",
    "# 使用辗转相除法计算最大公约数\n",
    "if a > b:\n",
    "    x, y = a, b\n",
    "else:\n",
    "    x, y = b, a\n",
    "    \n",
    "while x % y != 0:\n",
    "    x, y = y, x % y\n",
    "\n",
    "print(\"%d 和 %d 的最大公约数是 %d\" % (a, b, y))\n",
    "print(\"%d 和 %d 的最小公倍数是 %d\" % (a, b,a*b / y))"
   ],
   "id": "1e9eb276e031172f",
   "outputs": [
    {
     "name": "stdout",
     "output_type": "stream",
     "text": [
      "10 和  7 的最大公约数是 1\n",
      "10 和  7 的最小公倍数是 70\n"
     ]
    }
   ],
   "execution_count": 3
  },
  {
   "metadata": {
    "ExecuteTime": {
     "end_time": "2024-04-20T02:37:03.743945Z",
     "start_time": "2024-04-20T02:37:03.735926Z"
    }
   },
   "cell_type": "code",
   "source": [
    "# 练习3：打印如下所示的三角形图案。\n",
    "n = int(input(\"请输入行数：\"))\n",
    "# *\n",
    "# **\n",
    "# ***\n",
    "# ****\n",
    "# *****\n",
    "for i in range(n):\n",
    "    for j in range(i+1):\n",
    "        print(\"*\", end=\"\")\n",
    "    print()\n",
    "\n",
    "#     *\n",
    "#    **\n",
    "#   ***\n",
    "#  ****\n",
    "# *****\n",
    "for i in range(n):\n",
    "    for j in range(n):\n",
    "        if j < n - i - 1:\n",
    "            print(\" \", end=\"\")\n",
    "        else:\n",
    "            print(\"*\", end=\"\")\n",
    "    print()\n",
    "#     *\n",
    "#    ***\n",
    "#   *****\n",
    "#  *******\n",
    "# *********  \n",
    "for i in range(n):\n",
    "    for j in range(n-i-1):\n",
    "        print(\" \", end=\"\")\n",
    "    for j in range(i*2+1):\n",
    "        print(\"*\", end=\"\")\n",
    "    print()"
   ],
   "id": "b3225c4478c049a5",
   "outputs": [
    {
     "name": "stdout",
     "output_type": "stream",
     "text": [
      "*\n",
      "**\n",
      "***\n",
      "****\n",
      "*****\n",
      "    *\n",
      "   **\n",
      "  ***\n",
      " ****\n",
      "*****\n",
      "    *\n",
      "   ***\n",
      "  *****\n",
      " *******\n",
      "*********\n"
     ]
    }
   ],
   "execution_count": 8
  },
  {
   "metadata": {},
   "cell_type": "code",
   "outputs": [],
   "execution_count": null,
   "source": "",
   "id": "f2896b23ff527f89"
  }
 ],
 "metadata": {
  "kernelspec": {
   "display_name": "Python 3",
   "language": "python",
   "name": "python3"
  },
  "language_info": {
   "codemirror_mode": {
    "name": "ipython",
    "version": 2
   },
   "file_extension": ".py",
   "mimetype": "text/x-python",
   "name": "python",
   "nbconvert_exporter": "python",
   "pygments_lexer": "ipython2",
   "version": "2.7.6"
  }
 },
 "nbformat": 4,
 "nbformat_minor": 5
}
